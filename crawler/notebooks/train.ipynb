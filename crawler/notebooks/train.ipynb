{
 "metadata": {
  "name": "",
  "signature": "sha256:3fd424174237c4e27cdf0bd17380af4e70505babbdcc7d4bf8a1a7d42fc30c01"
 },
 "nbformat": 3,
 "nbformat_minor": 0,
 "worksheets": [
  {
   "cells": [
    {
     "cell_type": "code",
     "collapsed": false,
     "input": [
      "import sys\n",
      "sys.path.insert(0, '../../')\n",
      "\n",
      "import os\n",
      "import glob\n",
      "import numpy as np\n",
      "import lxml.html.clean\n",
      "import lxml.html\n",
      "import lxml.etree\n",
      "import html2text\n",
      "import pymongo\n",
      "from tqdm import tqdm\n",
      "\n",
      "from sklearn.externals import joblib\n",
      "from sklearn.linear_model import LogisticRegression\n",
      "from sklearn.pipeline import Pipeline, FeatureUnion\n",
      "from sklearn.cross_validation import train_test_split, cross_val_score\n",
      "from sklearn.metrics import classification_report\n",
      "from sklearn.feature_extraction.text import TfidfVectorizer, CountVectorizer\n",
      "\n",
      "from ranker import Ranker"
     ],
     "language": "python",
     "metadata": {},
     "outputs": [],
     "prompt_number": 89
    },
    {
     "cell_type": "code",
     "collapsed": false,
     "input": [
      "def get_informative_features(vectorizer, clf, class_labels, N):\n",
      "    \"\"\"\n",
      "    Return text with features with the highest\n",
      "    absolute coefficient values, per class.\n",
      "    \"\"\"\n",
      "    feature_names = vectorizer.get_feature_names()\n",
      "    features_by_class = []\n",
      "    for i, class_label in enumerate(class_labels):\n",
      "        topN = np.argsort(clf.coef_[i])[-N:]\n",
      "        bottomN = np.argsort(clf.coef_[i])[:N]\n",
      "        res = []\n",
      "        for j in reversed(topN):\n",
      "            coef = clf.coef_[i][j]\n",
      "            if coef > 0:\n",
      "                res.append(\"%0.6f: %s\" % (coef, feature_names[j]))\n",
      "        for j in reversed(bottomN):\n",
      "            coef = clf.coef_[i][j]\n",
      "            if coef < 0:\n",
      "                res.append(\"%0.6f: %s\" % (coef, feature_names[j]))\n",
      "        features_by_class.append((class_label, '\\n'.join(res)))\n",
      "    return features_by_class\n",
      "\n",
      "\n",
      "def get_informative_features_binary(vec, clf, top):\n",
      "    \"\"\"\n",
      "    Return text with features with highest absolute coefficient values\n",
      "    (for a binary classification task).\n",
      "    \"\"\"\n",
      "    return dict(get_informative_features(vec, clf, [0], top))[0]\n",
      "\n",
      "\n",
      "cleaner = lxml.html.clean.Cleaner(\n",
      "    style=True, \n",
      "    scripts=True, \n",
      "    javascript=True, \n",
      "    comments=True, \n",
      "    embedded=True, \n",
      "    forms=False, \n",
      "    page_structure=False,\n",
      ")\n",
      "\n",
      "def _tree2text(tree):\n",
      "    tree = cleaner.clean_html(tree)\n",
      "    html = lxml.html.tostring(tree)\n",
      "    doc = lxml.html.document_fromstring(html)\n",
      "    return ' '.join(doc.text_content().split())\n",
      "        \n",
      "    \n",
      "def prepare_htmltext(html):\n",
      "    tree = lxml.html.fromstring(html)\n",
      "    return _tree2text(tree)\n",
      "\n",
      "\n",
      "def prepare_html(fn):\n",
      "    with open(fn, 'rb') as f:\n",
      "        tree = lxml.html.parse(f)\n",
      "        \n",
      "    return _tree2text(tree)\n",
      "\n",
      "\n",
      "def load_documents(pat):    \n",
      "    for fn in tqdm(glob.glob(pat), leave=True):\n",
      "        try:\n",
      "            yield prepare_html(fn)\n",
      "        except Exception as e:\n",
      "            print(\"error processing %s: %s\" % (fn, e))\n",
      "            \n",
      "def posneg2xy(pos, neg):\n",
      "    X = pos + neg\n",
      "    y = [True]*len(pos) + [False]*len(neg)\n",
      "    return X, y"
     ],
     "language": "python",
     "metadata": {},
     "outputs": [],
     "prompt_number": 90
    },
    {
     "cell_type": "code",
     "collapsed": false,
     "input": [
      "docs_pos = list(load_documents('../data/train/pos/*.html'))\n",
      "docs_neg = list(load_documents('../data/train/neg/*.html'))\n",
      "\n",
      "# X_Amanda, y_Amanda = posneg2xy(docs_pos, docs_neg)\n",
      "X_Amanda, y_Amanda = posneg2xy(docs_pos, [])"
     ],
     "language": "python",
     "metadata": {},
     "outputs": [
      {
       "output_type": "stream",
       "stream": "stdout",
       "text": [
        "\r",
        "|----------| 0/325   0% [elapsed: 00:00 left: ?, ? iters/sec]"
       ]
      },
      {
       "output_type": "stream",
       "stream": "stdout",
       "text": [
        "\r",
        "|----------| 22/325   6% [elapsed: 00:00 left: 00:07, 42.50 iters/sec]"
       ]
      },
      {
       "output_type": "stream",
       "stream": "stdout",
       "text": [
        "\r",
        "|#---------| 53/325  16% [elapsed: 00:01 left: 00:05, 51.53 iters/sec]"
       ]
      },
      {
       "output_type": "stream",
       "stream": "stdout",
       "text": [
        "\r",
        "|##--------| 73/325  22% [elapsed: 00:01 left: 00:05, 47.62 iters/sec]"
       ]
      },
      {
       "output_type": "stream",
       "stream": "stdout",
       "text": [
        "\r",
        "|##--------| 95/325  29% [elapsed: 00:02 left: 00:04, 46.70 iters/sec]"
       ]
      },
      {
       "output_type": "stream",
       "stream": "stdout",
       "text": [
        "\r",
        "|###-------| 123/325  37% [elapsed: 00:02 left: 00:04, 48.38 iters/sec]"
       ]
      },
      {
       "output_type": "stream",
       "stream": "stdout",
       "text": [
        "\r",
        "|####------| 158/325  48% [elapsed: 00:03 left: 00:03, 51.55 iters/sec]"
       ]
      },
      {
       "output_type": "stream",
       "stream": "stdout",
       "text": [
        "error processing ../data/train/pos/7b3b7575c7db60270db754fe8b24f25d.html: IO_ENCODER\n",
        "\r",
        "|#####-----| 193/325  59% [elapsed: 00:03 left: 00:02, 54.10 iters/sec]"
       ]
      },
      {
       "output_type": "stream",
       "stream": "stdout",
       "text": [
        "\r",
        "|#######---| 229/325  70% [elapsed: 00:04 left: 00:01, 56.28 iters/sec]"
       ]
      },
      {
       "output_type": "stream",
       "stream": "stdout",
       "text": [
        "\r",
        "|########--| 263/325  80% [elapsed: 00:04 left: 00:01, 57.56 iters/sec]"
       ]
      },
      {
       "output_type": "stream",
       "stream": "stdout",
       "text": [
        "\r",
        "|#########-| 301/325  92% [elapsed: 00:05 left: 00:00, 59.07 iters/sec]"
       ]
      },
      {
       "output_type": "stream",
       "stream": "stdout",
       "text": [
        "\r",
        "|##########| 325/325 100% [elapsed: 00:05 left: 00:00, 58.10 iters/sec]"
       ]
      },
      {
       "output_type": "stream",
       "stream": "stdout",
       "text": [
        "\r",
        "|----------| 0/46   0% [elapsed: 00:00 left: ?, ? iters/sec]"
       ]
      },
      {
       "output_type": "stream",
       "stream": "stdout",
       "text": [
        "\r",
        "|#######---| 36/46  78% [elapsed: 00:00 left: 00:00, 70.10 iters/sec]"
       ]
      },
      {
       "output_type": "stream",
       "stream": "stdout",
       "text": [
        "\r",
        "|##########| 46/46 100% [elapsed: 00:00 left: 00:00, 72.53 iters/sec]"
       ]
      }
     ],
     "prompt_number": 91
    },
    {
     "cell_type": "code",
     "collapsed": false,
     "input": [
      "def get_mdocs(interest):\n",
      "    mdata = pymongo.MongoClient()[\"MemexHack\"].urlinfo\n",
      "    return list(mdata.find({\"interest\": interest}, {\"html\": 1}))\n",
      "\n",
      "len(get_mdocs(False))"
     ],
     "language": "python",
     "metadata": {},
     "outputs": [
      {
       "metadata": {},
       "output_type": "pyout",
       "prompt_number": 92,
       "text": [
        "388"
       ]
      }
     ],
     "prompt_number": 92
    },
    {
     "cell_type": "code",
     "collapsed": false,
     "input": [
      "def prepare_doc(doc):\n",
      "    html = doc.get('html_rendered', doc['html'])\n",
      "    return prepare_htmltext(html.encode('utf8'))\n",
      "\n",
      "docs_mongo_pos = [prepare_doc(doc) for doc in get_mdocs(True)]\n",
      "docs_mongo_neg = [prepare_doc(doc) for doc in get_mdocs(False)]\n",
      "\n",
      "X_mongo, y_mongo = posneg2xy(docs_mongo_pos, docs_mongo_neg)"
     ],
     "language": "python",
     "metadata": {},
     "outputs": [],
     "prompt_number": 93
    },
    {
     "cell_type": "code",
     "collapsed": false,
     "input": [
      "X = X_Amanda + X_mongo\n",
      "y = y_Amanda + y_mongo"
     ],
     "language": "python",
     "metadata": {},
     "outputs": [],
     "prompt_number": 94
    },
    {
     "cell_type": "code",
     "collapsed": false,
     "input": [
      "X_train, X_test, y_train, y_test = train_test_split(X, y)"
     ],
     "language": "python",
     "metadata": {},
     "outputs": [],
     "prompt_number": 95
    },
    {
     "cell_type": "code",
     "collapsed": false,
     "input": [
      "vec = CountVectorizer(min_df=2, ngram_range=(1,2)) #, stop_words='english')\n",
      "clf = LogisticRegression(C=0.1, penalty='l2')\n",
      "\n",
      "pipe = Pipeline([\n",
      "    ('vec', vec),\n",
      "    ('clf', clf),\n",
      "])"
     ],
     "language": "python",
     "metadata": {},
     "outputs": [],
     "prompt_number": 110
    },
    {
     "cell_type": "code",
     "collapsed": false,
     "input": [
      "pipe.fit(X_train, y_train)\n",
      "y_pred = pipe.predict(X_test)"
     ],
     "language": "python",
     "metadata": {},
     "outputs": [],
     "prompt_number": 111
    },
    {
     "cell_type": "code",
     "collapsed": false,
     "input": [
      "print classification_report(y_test, y_pred)"
     ],
     "language": "python",
     "metadata": {},
     "outputs": [
      {
       "output_type": "stream",
       "stream": "stdout",
       "text": [
        "             precision    recall  f1-score   support\n",
        "\n",
        "      False       0.90      0.94      0.92        90\n",
        "       True       0.96      0.93      0.95       132\n",
        "\n",
        "avg / total       0.94      0.94      0.94       222\n",
        "\n"
       ]
      }
     ],
     "prompt_number": 112
    },
    {
     "cell_type": "code",
     "collapsed": false,
     "input": [
      "cross_val_score(pipe, X, y, cv=10, scoring='f1').mean()"
     ],
     "language": "python",
     "metadata": {},
     "outputs": [
      {
       "metadata": {},
       "output_type": "pyout",
       "prompt_number": 113,
       "text": [
        "0.94442641684353124"
       ]
      }
     ],
     "prompt_number": 113
    },
    {
     "cell_type": "code",
     "collapsed": false,
     "input": [
      "print get_informative_features_binary(vec, clf, 200)"
     ],
     "language": "python",
     "metadata": {},
     "outputs": [
      {
       "output_type": "stream",
       "stream": "stdout",
       "text": [
        "0.362513: escort\n",
        "0.264296: escorts\n",
        "0.181355: bbbjtc\n",
        "0.174292: bbbj\n",
        "0.172460: adult\n",
        "0.170300: massage\n",
        "0.154605: me\n",
        "0.143078: escorts and\n",
        "0.136749: bbbjtcnqns\n",
        "0.129156: and escort\n",
        "0.121922: escort agencies\n",
        "0.121252: fetish\n",
        "0.120765: girl\n",
        "0.117833: agencies\n",
        "0.112339: forum\n",
        "0.111125: yes\n",
        "0.110312: gfe\n",
        "0.105462: time\n",
        "0.102285: preferred411\n",
        "0.083296: fantasy\n",
        "0.083157: over\n",
        "0.083124: com\n",
        "0.082075: powered\n",
        "0.081995: powered by\n",
        "0.080489: her\n",
        "0.079435: body\n",
        "0.078924: my\n",
        "0.078189: reviews\n",
        "0.077740: bj\n",
        "0.076870: hobby\n",
        "0.076534: bbbjtcim\n",
        "0.075367: dating\n",
        "0.075196: the hobby\n",
        "0.075054: ik\n",
        "0.074596: girls\n",
        "0.074231: hunter\n",
        "0.073706: date\n",
        "0.071574: photography\n",
        "0.071386: posts\n",
        "0.069735: gallery\n",
        "0.069594: private\n",
        "0.069586: session\n",
        "0.068261: age\n",
        "0.067497: will\n",
        "0.067114: vip\n",
        "0.066598: ctrl\n",
        "0.066598: ctrl enter\n",
        "0.066209: sienna\n",
        "0.064079: fbsm\n",
        "0.060942: cim\n",
        "0.060762: am\n",
        "0.060561: \u81ea\u7531\u5fae\u535a\n",
        "0.060190: no\n",
        "0.060187: location\n",
        "0.059953: is\n",
        "0.057446: only\n",
        "0.057445: you will\n",
        "0.057358: rates\n",
        "0.056957: million\n",
        "0.055673: she\n",
        "0.055615: find\n",
        "0.054964: angel\n",
        "0.054330: are\n",
        "0.054013: meet\n",
        "0.053319: gold\n",
        "0.053240: reply\n",
        "0.053106: million members\n",
        "0.052885: experience\n",
        "0.052525: over 35\n",
        "0.052336: salon\n",
        "0.052163: ads\n",
        "0.052044: bbbjwf\n",
        "0.051606: post\n",
        "0.051198: looking\n",
        "0.050037: and\n",
        "0.050028: you\n",
        "0.049836: most\n",
        "0.049805: preferred411 com\n",
        "0.049531: photo\n",
        "0.049399: lady\n",
        "0.048801: sex\n",
        "0.048739: provider\n",
        "0.048506: members\n",
        "0.048434: erotic\n",
        "0.048074: asian\n",
        "0.047995: cum\n",
        "0.047467: hot\n",
        "0.047359: any\n",
        "0.047311: united\n",
        "0.047207: entertainers\n",
        "0.047029: bar\n",
        "0.046961: login\n",
        "0.046892: who\n",
        "0.046669: facial\n",
        "0.046652: best\n",
        "0.046531: ca\n",
        "0.046349: add\n",
        "0.046097: thread\n",
        "0.046093: ladies\n",
        "0.046032: with\n",
        "0.045970: have\n",
        "0.045837: incall\n",
        "0.045674: bare\n",
        "0.045504: looking for\n",
        "0.045392: to my\n",
        "0.045280: cowgirl\n",
        "0.044748: hj\n",
        "0.044675: activities\n",
        "0.044649: bdsm\n",
        "0.044558: east\n",
        "0.043861: above\n",
        "0.043734: rooms\n",
        "0.043514: call\n",
        "0.043337: bare back\n",
        "0.043229: link\n",
        "0.042760: pleasure\n",
        "0.042398: roses\n",
        "0.042087: russian\n",
        "0.041780: porn\n",
        "0.041664: daty\n",
        "0.041486: london\n",
        "0.041315: 23\n",
        "0.041138: 20\n",
        "0.040821: myself\n",
        "0.040471: about\n",
        "0.040374: \u514d\u7ffb\u5899 https\n",
        "0.040374: \u514d\u7ffb\u5899\n",
        "0.040225: website\n",
        "0.040175: reads\n",
        "0.040019: pic\n",
        "0.039945: do\n",
        "0.039494: je\n",
        "0.039480: of this\n",
        "0.039266: create\n",
        "0.038899: joined\n",
        "0.038856: stream\n",
        "0.038468: italy\n",
        "0.038352: bbfs\n",
        "0.038281: 32\n",
        "0.038243: fetish session\n",
        "0.037829: blonde\n",
        "0.037817: county\n",
        "0.037790: id\n",
        "0.037575: reverse\n",
        "0.037281: floor\n",
        "0.037182: friends\n",
        "0.037145: mia\n",
        "0.037143: vienna\n",
        "0.037099: or cim\n",
        "0.037060: hours\n",
        "0.036974: preferred\n",
        "0.036763: maxim\n",
        "0.036423: sweden\n",
        "0.036421: 24\n",
        "0.036330: 35\n",
        "0.036158: booking\n",
        "0.036048: leave\n",
        "0.035921: poland\n",
        "0.035798: 239\n",
        "0.035759: comment\n",
        "0.035634: package\n",
        "0.035563: new orleans\n",
        "0.035563: orleans\n",
        "0.035477: msog\n",
        "0.035452: brides\n",
        "0.035412: register\n",
        "0.035373: announce\n",
        "0.035343: prostitution\n",
        "0.035291: new\n",
        "0.035269: bbbjtc net\n",
        "0.035108: type\n",
        "0.035061: ad\n",
        "0.034949: wix\n",
        "0.034633: year\n",
        "0.034612: west\n",
        "0.034588: ce\n",
        "0.034586: full\n",
        "0.034566: 588\n",
        "0.034485: in data\n",
        "0.034483: 1008\n",
        "0.034483: eccie\n",
        "0.034468: club\n",
        "0.034247: services\n",
        "0.034085: bbbjtcws\n",
        "0.034068: mouth\n",
        "0.034064: would\n",
        "0.034026: users\n",
        "0.033958: greece\n",
        "0.033955: girl that\n",
        "0.033847: view\n",
        "0.033829: for in\n",
        "0.033111: hair\n",
        "0.033053: do find\n",
        "0.033052: bbbjwf or\n",
        "0.033045: that do\n",
        "0.032949: old\n",
        "0.032846: straight\n",
        "0.032584: adult entertainers\n",
        "0.032481: that is\n",
        "0.032379: offer\n",
        "-0.034403: cookie\n",
        "-0.034447: upgrade your\n",
        "-0.034548: central\n",
        "-0.034563: to be\n",
        "-0.034723: english espa\u00f1ol\n",
        "-0.034763: oliviamunn\n",
        "-0.034868: survey\n",
        "-0.034880: distributions\n",
        "-0.034955: on the\n",
        "-0.034980: makeup\n",
        "-0.035025: change your\n",
        "-0.035065: december\n",
        "-0.035196: com is\n",
        "-0.035290: 02 05\n",
        "-0.035516: top 100\n",
        "-0.035579: icpen\n",
        "-0.035682: more\n",
        "-0.035782: reference\n",
        "-0.036605: digital\n",
        "-0.036745: dresses\n",
        "-0.036780: be enabled\n",
        "-0.036824: shoes\n",
        "-0.036854: cookies\n",
        "-0.036870: object reference\n",
        "-0.036901: environment\n",
        "-0.037110: 99\n",
        "-0.037254: \u00f0\u00be\u00f0\n",
        "-0.037275: yahoo\n",
        "-0.037329: category\n",
        "-0.037386: is ready\n",
        "-0.037399: law\n",
        "-0.037403: du\n",
        "-0.037425: \u0433\u043e\u0434\u0430\n",
        "-0.037440: authors\n",
        "-0.037575: 1998\n",
        "-0.037678: com video\n",
        "-0.037817: its\n",
        "-0.037857: office\n",
        "-0.038099: la\n",
        "-0.038343: 2011\n",
        "-0.038416: \u00f0\u00bc\u00f0\u00b5\u00f0\n",
        "-0.038427: simply\n",
        "-0.038428: added\n",
        "-0.038493: world\n",
        "-0.038649: we\n",
        "-0.038734: kulichki\n",
        "-0.038764: deutsch\n",
        "-0.038795: windows\n",
        "-0.038864: development\n",
        "-0.038919: lashes\n",
        "-0.039134: federal register\n",
        "-0.039184: quinceanera\n",
        "-0.039596: f\u00fcr\n",
        "-0.039782: mapquest\n",
        "-0.039828: berlin\n",
        "-0.039952: official\n",
        "-0.040197: voting\n",
        "-0.040289: shopping\n",
        "-0.040296: api\n",
        "-0.040384: cyber rights\n",
        "-0.040520: aspemail\n",
        "-0.040712: august\n",
        "-0.040770: electronic\n",
        "-0.040970: blogger\n",
        "-0.041099: von\n",
        "-0.041168: feedback\n",
        "-0.041178: using\n",
        "-0.041236: customer\n",
        "-0.041264: \u043f\u043e\n",
        "-0.041290: there\n",
        "-0.041315: 72\n",
        "-0.041563: 000\n",
        "-0.041582: vortex\n",
        "-0.041704: asppdf\n",
        "-0.042021: map\n",
        "-0.042031: ready\n",
        "-0.042082: management\n",
        "-0.042093: component\n",
        "-0.042208: google\n",
        "-0.042264: amazon\n",
        "-0.042563: mobile\n",
        "-0.042574: cranor\n",
        "-0.042676: 11 jun\n",
        "-0.042676: 09 27\n",
        "-0.042676: jun 2009\n",
        "-0.042797: demo\n",
        "-0.042955: test\n",
        "-0.043032: 14\n",
        "-0.043083: index of\n",
        "-0.043301: aspuser\n",
        "-0.043410: institut\n",
        "-0.043731: mail\n",
        "-0.043880: \u043d\u043e\u0432\u043e\u0441\u0442\u0438\n",
        "-0.044079: de\n",
        "-0.044285: fran\u00e7ais\n",
        "-0.044673: explore\n",
        "-0.044815: 6pm com\n",
        "-0.044879: 6pm\n",
        "-0.044995: index\n",
        "-0.045642: share\n",
        "-0.046066: accessories\n",
        "-0.046090: government\n",
        "-0.047045: it\n",
        "-0.047138: september\n",
        "-0.047164: perl\n",
        "-0.047554: please check\n",
        "-0.047784: has been\n",
        "-0.047861: 495\n",
        "-0.047913: \u043d\u0435\n",
        "-0.048082: hosting\n",
        "-0.048253: templates\n",
        "-0.048256: polski\n",
        "-0.048418: sign in\n",
        "-0.048419: xbox\n",
        "-0.048513: history\n",
        "-0.048527: russia\n",
        "-0.049136: \u0434\u043b\u044f\n",
        "-0.049440: directory\n",
        "-0.050191: cleaning\n",
        "-0.050236: alt\n",
        "-0.050393: sie\n",
        "-0.050409: bad\n",
        "-0.050532: found\n",
        "-0.050671: file\n",
        "-0.050745: modules\n",
        "-0.050854: privacy policy\n",
        "-0.050856: cyber\n",
        "-0.051202: \u0440\u0455\u0440\n",
        "-0.051213: zappos com\n",
        "-0.051839: library\n",
        "-0.052147: 12\n",
        "-0.052505: download\n",
        "-0.052615: protection\n",
        "-0.052682: been\n",
        "-0.052724: us\n",
        "-0.053190: copyright\n",
        "-0.053492: can\n",
        "-0.054151: video\n",
        "-0.054605: software\n",
        "-0.054797: javascript\n",
        "-0.055205: our\n",
        "-0.057080: ui\n",
        "-0.057746: be\n",
        "-0.057942: bitcoin\n",
        "-0.058144: econsumer gov\n",
        "-0.058267: channel\n",
        "-0.058948: media\n",
        "-0.059001: site\n",
        "-0.059138: panoramio\n",
        "-0.059587: user\n",
        "-0.060088: uhr\n",
        "-0.060456: utc\n",
        "-0.060493: contact us\n",
        "-0.060652: the\n",
        "-0.061261: gpo\n",
        "-0.062864: list\n",
        "-0.063361: www\n",
        "-0.063615: your browser\n",
        "-0.064706: by scott\n",
        "-0.064706: scott porter\n",
        "-0.064758: porter\n",
        "-0.065322: sign\n",
        "-0.065500: scott\n",
        "-0.067255: econsumer\n",
        "-0.067581: account\n",
        "-0.068113: federal\n",
        "-0.068891: browser\n",
        "-0.070461: itunes\n",
        "-0.071001: edu\n",
        "-0.071761: your\n",
        "-0.072224: products\n",
        "-0.072388: has\n",
        "-0.074437: web\n",
        "-0.074455: code\n",
        "-0.074589: design\n",
        "-0.074763: cpan\n",
        "-0.075182: \u00f0\u00be\u00f1\n",
        "-0.075835: der\n",
        "-0.076544: one\n",
        "-0.076561: of\n",
        "-0.077723: you for\n",
        "-0.077752: project9\n",
        "-0.079071: und\n",
        "-0.080757: ru\n",
        "-0.081432: thank\n",
        "-0.081505: thank you\n",
        "-0.083251: policy\n",
        "-0.084220: zappos\n",
        "-0.086462: gov\n",
        "-0.088091: information\n",
        "-0.089397: object\n",
        "-0.092515: \u043d\u0430\n",
        "-0.093726: rights\n",
        "-0.094149: news\n",
        "-0.094187: help\n",
        "-0.097743: org\n",
        "-0.102306: search\n",
        "-0.107724: page\n",
        "-0.144730: privacy\n",
        "-0.147975: 2014\n"
       ]
      }
     ],
     "prompt_number": 114
    },
    {
     "cell_type": "code",
     "collapsed": false,
     "input": [
      "pipe.fit(X, y)"
     ],
     "language": "python",
     "metadata": {},
     "outputs": [
      {
       "metadata": {},
       "output_type": "pyout",
       "prompt_number": 115,
       "text": [
        "Pipeline(steps=[('vec', CountVectorizer(analyzer=u'word', binary=False, charset=None,\n",
        "        charset_error=None, decode_error=u'strict',\n",
        "        dtype=<type 'numpy.int64'>, encoding=u'utf-8', input=u'content',\n",
        "        lowercase=True, max_df=1.0, max_features=None, min_df=2,\n",
        "        ngram_range=(1, 2), prepr...e, fit_intercept=True,\n",
        "          intercept_scaling=1, penalty='l2', random_state=None, tol=0.0001))])"
       ]
      }
     ],
     "prompt_number": 115
    },
    {
     "cell_type": "code",
     "collapsed": false,
     "input": [
      "joblib.dump(pipe, '../../ranker/models/model.joblib', compress=1)\n",
      "!ls -lh '../../ranker/models/'"
     ],
     "language": "python",
     "metadata": {},
     "outputs": [
      {
       "output_type": "stream",
       "stream": "stdout",
       "text": [
        "total 16504\r\n",
        "-rw-r--r--  1 kmike  staff   8.1M Sep 26 22:41 model.joblib\r\n"
       ]
      }
     ],
     "prompt_number": 116
    },
    {
     "cell_type": "code",
     "collapsed": false,
     "input": [
      "ranker = Ranker.load()"
     ],
     "language": "python",
     "metadata": {},
     "outputs": [],
     "prompt_number": 117
    },
    {
     "cell_type": "code",
     "collapsed": false,
     "input": [
      "ranker.score_doc(get_mdocs(True)[4])"
     ],
     "language": "python",
     "metadata": {},
     "outputs": [
      {
       "metadata": {},
       "output_type": "pyout",
       "prompt_number": 118,
       "text": [
        "0.99171085096605704"
       ]
      }
     ],
     "prompt_number": 118
    },
    {
     "cell_type": "code",
     "collapsed": false,
     "input": [],
     "language": "python",
     "metadata": {},
     "outputs": []
    }
   ],
   "metadata": {}
  }
 ]
}