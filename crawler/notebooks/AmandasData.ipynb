{
 "metadata": {
  "name": "",
  "signature": "sha256:269ca6bed5d1b39bc5d5d7ed1975785c987ac0d3065fd8076a2782ab1eec3c0b"
 },
 "nbformat": 3,
 "nbformat_minor": 0,
 "worksheets": [
  {
   "cells": [
    {
     "cell_type": "code",
     "collapsed": false,
     "input": [
      "import pandas as pd"
     ],
     "language": "python",
     "metadata": {},
     "outputs": [],
     "prompt_number": 39
    },
    {
     "cell_type": "code",
     "collapsed": false,
     "input": [
      "!pip install xlrd"
     ],
     "language": "python",
     "metadata": {},
     "outputs": [
      {
       "output_type": "stream",
       "stream": "stdout",
       "text": [
        "Downloading/unpacking xlrd\r\n"
       ]
      },
      {
       "output_type": "stream",
       "stream": "stdout",
       "text": [
        "  Downloading xlrd-0.9.3.tar.gz (178kB): \r",
        "  Downloading xlrd-0.9.3.tar.gz (178kB):   2%  4.1kB\r",
        "  Downloading xlrd-0.9.3.tar.gz (178kB):   4%  8.2kB"
       ]
      },
      {
       "output_type": "stream",
       "stream": "stdout",
       "text": [
        "\r",
        "  Downloading xlrd-0.9.3.tar.gz (178kB):   6%  12kB \r",
        "  Downloading xlrd-0.9.3.tar.gz (178kB):   9%  16kB\r",
        "  Downloading xlrd-0.9.3.tar.gz (178kB):  11%  20kB\r",
        "  Downloading xlrd-0.9.3.tar.gz (178kB):  13%  24kB"
       ]
      },
      {
       "output_type": "stream",
       "stream": "stdout",
       "text": [
        "\r",
        "  Downloading xlrd-0.9.3.tar.gz (178kB):  16%  28kB\r",
        "  Downloading xlrd-0.9.3.tar.gz (178kB):  18%  32kB\r",
        "  Downloading xlrd-0.9.3.tar.gz (178kB):  20%  36kB\r",
        "  Downloading xlrd-0.9.3.tar.gz (178kB):  22%  40kB\r",
        "  Downloading xlrd-0.9.3.tar.gz (178kB):  25%  45kB\r",
        "  Downloading xlrd-0.9.3.tar.gz (178kB):  27%  49kB"
       ]
      },
      {
       "output_type": "stream",
       "stream": "stdout",
       "text": [
        "\r",
        "  Downloading xlrd-0.9.3.tar.gz (178kB):  29%  53kB\r",
        "  Downloading xlrd-0.9.3.tar.gz (178kB):  32%  57kB\r",
        "  Downloading xlrd-0.9.3.tar.gz (178kB):  34%  61kB\r",
        "  Downloading xlrd-0.9.3.tar.gz (178kB):  36%  65kB\r",
        "  Downloading xlrd-0.9.3.tar.gz (178kB):  39%  69kB\r",
        "  Downloading xlrd-0.9.3.tar.gz (178kB):  41%  73kB\r",
        "  Downloading xlrd-0.9.3.tar.gz (178kB):  43%  77kB\r",
        "  Downloading xlrd-0.9.3.tar.gz (178kB):  45%  81kB\r",
        "  Downloading xlrd-0.9.3.tar.gz (178kB):  48%  86kB"
       ]
      },
      {
       "output_type": "stream",
       "stream": "stdout",
       "text": [
        "\r",
        "  Downloading xlrd-0.9.3.tar.gz (178kB):  50%  90kB\r",
        "  Downloading xlrd-0.9.3.tar.gz (178kB):  52%  94kB\r",
        "  Downloading xlrd-0.9.3.tar.gz (178kB):  55%  98kB\r",
        "  Downloading xlrd-0.9.3.tar.gz (178kB):  57%  102kB\r",
        "  Downloading xlrd-0.9.3.tar.gz (178kB):  59%  106kB"
       ]
      },
      {
       "output_type": "stream",
       "stream": "stdout",
       "text": [
        "\r",
        "  Downloading xlrd-0.9.3.tar.gz (178kB):  61%  110kB\r",
        "  Downloading xlrd-0.9.3.tar.gz (178kB):  64%  114kB\r",
        "  Downloading xlrd-0.9.3.tar.gz (178kB):  66%  118kB\r",
        "  Downloading xlrd-0.9.3.tar.gz (178kB):  68%  122kB\r",
        "  Downloading xlrd-0.9.3.tar.gz (178kB):  71%  126kB\r",
        "  Downloading xlrd-0.9.3.tar.gz (178kB):  73%  131kB\r",
        "  Downloading xlrd-0.9.3.tar.gz (178kB):  75%  135kB"
       ]
      },
      {
       "output_type": "stream",
       "stream": "stdout",
       "text": [
        "\r",
        "  Downloading xlrd-0.9.3.tar.gz (178kB):  78%  139kB\r",
        "  Downloading xlrd-0.9.3.tar.gz (178kB):  80%  143kB\r",
        "  Downloading xlrd-0.9.3.tar.gz (178kB):  82%  147kB\r",
        "  Downloading xlrd-0.9.3.tar.gz (178kB):  84%  151kB\r",
        "  Downloading xlrd-0.9.3.tar.gz (178kB):  87%  155kB\r",
        "  Downloading xlrd-0.9.3.tar.gz (178kB):  89%  159kB\r",
        "  Downloading xlrd-0.9.3.tar.gz (178kB):  91%  163kB\r",
        "  Downloading xlrd-0.9.3.tar.gz (178kB):  94%  167kB\r",
        "  Downloading xlrd-0.9.3.tar.gz (178kB):  96%  172kB\r",
        "  Downloading xlrd-0.9.3.tar.gz (178kB):  98%  176kB\r",
        "  Downloading xlrd-0.9.3.tar.gz (178kB): 100%  178kB\r",
        "  Downloading xlrd-0.9.3.tar.gz (178kB):            \r",
        "  Downloading xlrd-0.9.3.tar.gz (178kB): 178kB downloaded\r\n",
        "  Storing download in cache at /Users/kmike/.pip/download/https%3A%2F%2Fpypi.python.org%2Fpackages%2Fsource%2Fx%2Fxlrd%2Fxlrd-0.9.3.tar.gz\r\n"
       ]
      },
      {
       "output_type": "stream",
       "stream": "stdout",
       "text": [
        "  Running setup.py (path:/Users/kmike/envs/memex/build/xlrd/setup.py) egg_info for package xlrd\r\n"
       ]
      },
      {
       "output_type": "stream",
       "stream": "stdout",
       "text": [
        "    \r\n"
       ]
      },
      {
       "output_type": "stream",
       "stream": "stdout",
       "text": [
        "Installing collected packages: xlrd\r\n",
        "  Running setup.py install for xlrd\r\n"
       ]
      },
      {
       "output_type": "stream",
       "stream": "stdout",
       "text": [
        "    changing mode of build/scripts-2.7/runxlrd.py from 644 to 755\r\n"
       ]
      },
      {
       "output_type": "stream",
       "stream": "stdout",
       "text": [
        "    \r\n"
       ]
      },
      {
       "output_type": "stream",
       "stream": "stdout",
       "text": [
        "    changing mode of /Users/kmike/envs/memex/bin/runxlrd.py to 755\r\n",
        "Successfully installed xlrd\r\n",
        "Cleaning up...\r\n"
       ]
      }
     ],
     "prompt_number": 3
    },
    {
     "cell_type": "code",
     "collapsed": false,
     "input": [
      "xls = pd.ExcelFile('../Keyword_weighting.xlsx')\n",
      "print xls.sheet_names\n",
      "df = pd.concat([xls.parse(sheet_name) for sheet_name in xls.sheet_names[1:]])\n",
      "pos = df.Positive[df.Positive.notnull()]\n",
      "neg = df.Negative[df.Negative.notnull()]"
     ],
     "language": "python",
     "metadata": {},
     "outputs": [
      {
       "output_type": "stream",
       "stream": "stdout",
       "text": [
        "[u'Sheet1', u'AAMP', u'Asian Cowgirl', u'BBBJ', u'BBJTC', u'BBBJTCIM', u'BBBJTCNQNS', u'BBJTCWS', u'BBBJWF', u'FBSM', u'GFE Lite', u'BBFS', u'OWOTC']\n"
       ]
      }
     ],
     "prompt_number": 35
    },
    {
     "cell_type": "code",
     "collapsed": false,
     "input": [
      "neg.to_csv('neg.csv', encoding='utf8', index=False)\n",
      "pos.to_csv('pos.csv', encoding='utf8', index=False)"
     ],
     "language": "python",
     "metadata": {},
     "outputs": [],
     "prompt_number": 36
    },
    {
     "cell_type": "code",
     "collapsed": false,
     "input": [
      "!head neg.csv"
     ],
     "language": "python",
     "metadata": {},
     "outputs": [
      {
       "output_type": "stream",
       "stream": "stdout",
       "text": [
        "www.aamp.com\r\n",
        "www.aamp.net/\r\n",
        "www.abbiotec.com/antibodies/aamp-antibody\r\n",
        "www.aamp-online.org\r\n",
        "http://sexymx.com/asian-cowgirl-big-boobs\r\n",
        "www.porn.com/videos/asian?t=cowgirl\r\n",
        "https://justpicsplease.com/pics/asian%20cowgirl\r\n",
        "www.sexinfo101.com/reverseasiancowgirl.shtml\r\n",
        "https://www.tumblr.com/search/bbbj\r\n",
        "http://www.xnxx.com/video7284001/escort_bbbj_100\r\n"
       ]
      }
     ],
     "prompt_number": 37
    },
    {
     "cell_type": "code",
     "collapsed": false,
     "input": [],
     "language": "python",
     "metadata": {},
     "outputs": []
    }
   ],
   "metadata": {}
  }
 ]
}